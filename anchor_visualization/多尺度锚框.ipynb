{
 "cells": [
  {
   "cell_type": "code",
   "execution_count": null,
   "metadata": {
    "collapsed": true
   },
   "outputs": [],
   "source": [
    "%matplotlib inline\n",
    "import torch\n",
    "import matplotlib.pyplot as plt\n",
    "from d2l import torch as d2l\n",
    "\n",
    "img = d2l.plt.imread('DiaoChe00265.jpg')\n",
    "h, w = img.shape[:2]    # HWC\n",
    "print(h,w)\n",
    "\n",
    "# 在特征图（fmap）上生成锚框（anchors），每个单位（像素？）作为锚框的中心\n",
    "def display_anchors(fmap_w, fmap_h, size):\n",
    "    d2l.set_figsize()\n",
    "    fmap = torch.zeros((1, 10, fmap_h, fmap_w))\n",
    "    anchors = d2l.multibox_prior(\n",
    "        fmap, sizes=size, ratios=[1, 2, 0.5]\n",
    "    )\n",
    "    bbox_scale = torch.tensor((w, h, w, h))\n",
    "    d2l.show_bboxes(d2l.plt.imshow(img).axes, anchors[0] * bbox_scale)\n",
    "\n",
    "display_anchors(fmap_w=4, fmap_h=4, size=[0.15])"
   ]
  }
 ],
 "metadata": {
  "kernelspec": {
   "display_name": "Python 3",
   "language": "python",
   "name": "python3"
  },
  "language_info": {
   "codemirror_mode": {
    "name": "ipython",
    "version": 2
   },
   "file_extension": ".py",
   "mimetype": "text/x-python",
   "name": "python",
   "nbconvert_exporter": "python",
   "pygments_lexer": "ipython2",
   "version": "2.7.6"
  }
 },
 "nbformat": 4,
 "nbformat_minor": 0
}